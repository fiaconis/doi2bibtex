{
 "cells": [
  {
   "cell_type": "code",
   "execution_count": 1,
   "metadata": {},
   "outputs": [],
   "source": [
    "import sys\n",
    "import urllib.request\n",
    "from urllib.error import HTTPError"
   ]
  },
  {
   "cell_type": "code",
   "execution_count": 3,
   "metadata": {},
   "outputs": [
    {
     "name": "stdout",
     "output_type": "stream",
     "text": [
      "10.1145/1743666.1743719\n",
      "@inproceedings{Duchowski_2010,\n",
      "\tdoi = {10.1145/1743666.1743719},\n",
      "\turl = {https://doi.org/10.1145%2F1743666.1743719},\n",
      "\tyear = 2010,\n",
      "\tpublisher = {{ACM} Press},\n",
      "\tauthor = {Andrew T. Duchowski and Jason Driver and Sheriff Jolaoso and William Tan and Beverly N. Ramey and Ami Robbins},\n",
      "\ttitle = {Scanpath comparison revisited},\n",
      "\tbooktitle = {Proceedings of the 2010 Symposium on Eye-Tracking Research {\\&} Applications - {ETRA} {\\textquotesingle}10}\n",
      "}\n"
     ]
    }
   ],
   "source": [
    "BASE_URL = 'http://dx.doi.org/'\n",
    "\n",
    "try:\n",
    "    doi = input()\n",
    "    #doi = sys.argv[1]\n",
    "except IndexError:\n",
    "    print('Usage:\\n{} <doi>'.format(sys.argv[0]))\n",
    "    sys.exit(1)\n",
    "\n",
    "url = BASE_URL + doi\n",
    "req = urllib.request.Request(url)\n",
    "req.add_header('Accept', 'application/x-bibtex')\n",
    "try:\n",
    "    with urllib.request.urlopen(req) as f:\n",
    "        bibtex = f.read().decode()\n",
    "    print(bibtex)\n",
    "except HTTPError as e:\n",
    "    if e.code == 404:\n",
    "        print('DOI not found.')\n",
    "    else:\n",
    "        print('Service unavailable.')\n",
    "    sys.exit(1)"
   ]
  },
  {
   "cell_type": "code",
   "execution_count": null,
   "metadata": {},
   "outputs": [],
   "source": []
  }
 ],
 "metadata": {
  "kernelspec": {
   "display_name": "Python 3",
   "language": "python",
   "name": "python3"
  },
  "language_info": {
   "codemirror_mode": {
    "name": "ipython",
    "version": 3
   },
   "file_extension": ".py",
   "mimetype": "text/x-python",
   "name": "python",
   "nbconvert_exporter": "python",
   "pygments_lexer": "ipython3",
   "version": "3.8.4"
  }
 },
 "nbformat": 4,
 "nbformat_minor": 4
}
